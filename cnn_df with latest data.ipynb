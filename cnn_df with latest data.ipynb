{
 "cells": [
  {
   "cell_type": "code",
   "execution_count": 35,
   "id": "f9b6416c-920b-4c2c-b895-1e84f8800804",
   "metadata": {},
   "outputs": [],
   "source": [
    "import pandas as pd\n",
    "cnn_df=pd.read_csv('after_bert1_data_to_compare.csv')"
   ]
  },
  {
   "cell_type": "code",
   "execution_count": 36,
   "id": "7a40d20b-4455-478a-8b43-7c7ca6251f73",
   "metadata": {},
   "outputs": [
    {
     "data": {
      "text/html": [
       "<div>\n",
       "<style scoped>\n",
       "    .dataframe tbody tr th:only-of-type {\n",
       "        vertical-align: middle;\n",
       "    }\n",
       "\n",
       "    .dataframe tbody tr th {\n",
       "        vertical-align: top;\n",
       "    }\n",
       "\n",
       "    .dataframe thead th {\n",
       "        text-align: right;\n",
       "    }\n",
       "</style>\n",
       "<table border=\"1\" class=\"dataframe\">\n",
       "  <thead>\n",
       "    <tr style=\"text-align: right;\">\n",
       "      <th></th>\n",
       "      <th>Email Text</th>\n",
       "      <th>Email Type</th>\n",
       "      <th>BERT Embeddings</th>\n",
       "    </tr>\n",
       "  </thead>\n",
       "  <tbody>\n",
       "    <tr>\n",
       "      <th>0</th>\n",
       "      <td>breathtaking image for your company now workin...</td>\n",
       "      <td>Phishing Email</td>\n",
       "      <td>[ 2.01383844e-01  6.47791803e-01  8.92811060e-...</td>\n",
       "    </tr>\n",
       "    <tr>\n",
       "      <th>1</th>\n",
       "      <td>how to substantially increase saleseasily acce...</td>\n",
       "      <td>Phishing Email</td>\n",
       "      <td>[ 3.55392471e-02  6.76252171e-02  4.91976410e-...</td>\n",
       "    </tr>\n",
       "    <tr>\n",
       "      <th>2</th>\n",
       "      <td>epac pt e carnoali genie com e carolan genie c...</td>\n",
       "      <td>Phishing Email</td>\n",
       "      <td>[-1.55056268e-03  1.29966527e-01  5.61987758e-...</td>\n",
       "    </tr>\n",
       "    <tr>\n",
       "      <th>3</th>\n",
       "      <td>about aptconf there are these lines rpm leave ...</td>\n",
       "      <td>Safe Email</td>\n",
       "      <td>[ 2.52865672e-01  3.50500196e-01  9.46413457e-...</td>\n",
       "    </tr>\n",
       "    <tr>\n",
       "      <th>4</th>\n",
       "      <td>cialis soft tabs pre scriptions new clalls sof...</td>\n",
       "      <td>Phishing Email</td>\n",
       "      <td>[-1.62849613e-02 -6.34869561e-02  7.19620764e-...</td>\n",
       "    </tr>\n",
       "  </tbody>\n",
       "</table>\n",
       "</div>"
      ],
      "text/plain": [
       "                                          Email Text      Email Type  \\\n",
       "0  breathtaking image for your company now workin...  Phishing Email   \n",
       "1  how to substantially increase saleseasily acce...  Phishing Email   \n",
       "2  epac pt e carnoali genie com e carolan genie c...  Phishing Email   \n",
       "3  about aptconf there are these lines rpm leave ...      Safe Email   \n",
       "4  cialis soft tabs pre scriptions new clalls sof...  Phishing Email   \n",
       "\n",
       "                                     BERT Embeddings  \n",
       "0  [ 2.01383844e-01  6.47791803e-01  8.92811060e-...  \n",
       "1  [ 3.55392471e-02  6.76252171e-02  4.91976410e-...  \n",
       "2  [-1.55056268e-03  1.29966527e-01  5.61987758e-...  \n",
       "3  [ 2.52865672e-01  3.50500196e-01  9.46413457e-...  \n",
       "4  [-1.62849613e-02 -6.34869561e-02  7.19620764e-...  "
      ]
     },
     "execution_count": 36,
     "metadata": {},
     "output_type": "execute_result"
    }
   ],
   "source": [
    "cnn_df.head()"
   ]
  },
  {
   "cell_type": "code",
   "execution_count": 37,
   "id": "b6247df7-5320-4a0e-915e-45ffc9520c4b",
   "metadata": {},
   "outputs": [
    {
     "data": {
      "text/html": [
       "<div>\n",
       "<style scoped>\n",
       "    .dataframe tbody tr th:only-of-type {\n",
       "        vertical-align: middle;\n",
       "    }\n",
       "\n",
       "    .dataframe tbody tr th {\n",
       "        vertical-align: top;\n",
       "    }\n",
       "\n",
       "    .dataframe thead th {\n",
       "        text-align: right;\n",
       "    }\n",
       "</style>\n",
       "<table border=\"1\" class=\"dataframe\">\n",
       "  <thead>\n",
       "    <tr style=\"text-align: right;\">\n",
       "      <th></th>\n",
       "      <th>Email Text</th>\n",
       "      <th>Email Type</th>\n",
       "      <th>BERT Embeddings</th>\n",
       "    </tr>\n",
       "  </thead>\n",
       "  <tbody>\n",
       "    <tr>\n",
       "      <th>count</th>\n",
       "      <td>13114</td>\n",
       "      <td>13116</td>\n",
       "      <td>13116</td>\n",
       "    </tr>\n",
       "    <tr>\n",
       "      <th>unique</th>\n",
       "      <td>13020</td>\n",
       "      <td>2</td>\n",
       "      <td>12984</td>\n",
       "    </tr>\n",
       "    <tr>\n",
       "      <th>top</th>\n",
       "      <td>alink texdecoration noneaactive textdecoration...</td>\n",
       "      <td>Phishing Email</td>\n",
       "      <td>[-7.23443851e-02  1.28986150e-01  4.14267689e-...</td>\n",
       "    </tr>\n",
       "    <tr>\n",
       "      <th>freq</th>\n",
       "      <td>6</td>\n",
       "      <td>6558</td>\n",
       "      <td>9</td>\n",
       "    </tr>\n",
       "  </tbody>\n",
       "</table>\n",
       "</div>"
      ],
      "text/plain": [
       "                                               Email Text      Email Type  \\\n",
       "count                                               13114           13116   \n",
       "unique                                              13020               2   \n",
       "top     alink texdecoration noneaactive textdecoration...  Phishing Email   \n",
       "freq                                                    6            6558   \n",
       "\n",
       "                                          BERT Embeddings  \n",
       "count                                               13116  \n",
       "unique                                              12984  \n",
       "top     [-7.23443851e-02  1.28986150e-01  4.14267689e-...  \n",
       "freq                                                    9  "
      ]
     },
     "execution_count": 37,
     "metadata": {},
     "output_type": "execute_result"
    }
   ],
   "source": [
    "cnn_df.describe()"
   ]
  },
  {
   "cell_type": "code",
   "execution_count": 38,
   "id": "a14958f3-eaea-42d4-899d-ae6e5aa44e15",
   "metadata": {},
   "outputs": [
    {
     "name": "stdout",
     "output_type": "stream",
     "text": [
      "0    [ 2.01383844e-01  6.47791803e-01  8.92811060e-...\n",
      "1    [ 3.55392471e-02  6.76252171e-02  4.91976410e-...\n",
      "2    [-1.55056268e-03  1.29966527e-01  5.61987758e-...\n",
      "3    [ 2.52865672e-01  3.50500196e-01  9.46413457e-...\n",
      "4    [-1.62849613e-02 -6.34869561e-02  7.19620764e-...\n",
      "Name: BERT Embeddings, dtype: object\n",
      "<class 'str'>\n"
     ]
    }
   ],
   "source": [
    "# Check the first few rows of the BERT Embeddings column\n",
    "print(cnn_df['BERT Embeddings'].head())\n",
    "\n",
    "# Check the type of the first entry in the BERT Embeddings column\n",
    "print(type(cnn_df['BERT Embeddings'][0]))\n"
   ]
  },
  {
   "cell_type": "code",
   "execution_count": 39,
   "id": "c2a20e7d-4a28-4efb-8994-29e591f877f7",
   "metadata": {},
   "outputs": [],
   "source": [
    "def fix_embedding_format(embedding_str):\n",
    "    # Replace spaces with commas, ensuring proper formatting for lists\n",
    "    return '[' + ','.join(embedding_str.strip('[]').split()) + ']'\n",
    "\n",
    "# Apply the formatting fix\n",
    "cnn_df['BERT Embeddings'] = cnn_df['BERT Embeddings'].apply(fix_embedding_format)\n"
   ]
  },
  {
   "cell_type": "code",
   "execution_count": 40,
   "id": "07ecd0ef-b994-46ff-a211-88cced7cea56",
   "metadata": {},
   "outputs": [],
   "source": [
    "import ast\n",
    "import numpy as np\n",
    "\n",
    "# Convert string embeddings to actual NumPy arrays\n",
    "cnn_df['BERT Embeddings'] = cnn_df['BERT Embeddings'].apply(lambda x: np.array(ast.literal_eval(x)))\n"
   ]
  },
  {
   "cell_type": "code",
   "execution_count": 41,
   "id": "89eba41d-6507-49e7-981d-01c6f15d8d88",
   "metadata": {},
   "outputs": [
    {
     "name": "stdout",
     "output_type": "stream",
     "text": [
      "<class 'numpy.ndarray'>\n",
      "(768,)\n"
     ]
    }
   ],
   "source": [
    "print(type(cnn_df['BERT Embeddings'][0]))  # Should output <class 'numpy.ndarray'>\n",
    "print(cnn_df['BERT Embeddings'][0].shape)  # Should show the shape of the embedding\n"
   ]
  },
  {
   "cell_type": "code",
   "execution_count": 46,
   "id": "dfacb0d7-1541-4e55-8ecf-f094123bc7e1",
   "metadata": {},
   "outputs": [
    {
     "name": "stdout",
     "output_type": "stream",
     "text": [
      "Shape of X_train: (10492, 1, 768)\n",
      "Shape of y_train: (10492, 2)\n"
     ]
    }
   ],
   "source": [
    "import numpy as np\n",
    "from sklearn.preprocessing import LabelEncoder\n",
    "import tensorflow as tf\n",
    "from sklearn.model_selection import train_test_split\n",
    "\n",
    "# Initialize a list to store the cleaned embeddings\n",
    "X_cleaned = []\n",
    "\n",
    "for emb in cnn_df['BERT Embeddings']:\n",
    "    try:\n",
    "        # Ensure emb is a valid numpy array\n",
    "        if isinstance(emb, np.ndarray):\n",
    "            # Remove 'Ellipsis' from the embedding\n",
    "            emb = emb[emb != Ellipsis]\n",
    "            \n",
    "            # Filter out zero values\n",
    "            non_zero_emb = emb[emb != 0]\n",
    "            \n",
    "            # Only keep embeddings that have at least one non-zero value\n",
    "            if non_zero_emb.size > 0:\n",
    "                X_cleaned.append(non_zero_emb)\n",
    "            else:\n",
    "                print(f\"Skipping embedding with no non-zero values after cleaning: {emb}\")\n",
    "        else:\n",
    "            print(f\"Skipping invalid entry (not numpy array): {emb}\")\n",
    "            continue\n",
    "    except Exception as e:\n",
    "        print(f\"Skipping invalid entry due to error: {e}\")\n",
    "        continue\n",
    "\n",
    "# Convert the cleaned list into a numpy array\n",
    "X_cleaned = np.array(X_cleaned)\n",
    "\n",
    "# Ensure that we have enough valid data\n",
    "if X_cleaned.size == 0:\n",
    "    print(f\"Total number of valid embeddings: {len(X_cleaned)}\")\n",
    "    raise ValueError(\"No valid embeddings found after cleaning. Please check the data.\")\n",
    "\n",
    "# Proceed with the remaining steps as before (e.g., train-test split)\n",
    "y = cnn_df['Email Type']\n",
    "label_encoder = LabelEncoder()\n",
    "y = label_encoder.fit_transform(y)\n",
    "y = tf.keras.utils.to_categorical(y, num_classes=2)\n",
    "\n",
    "# Reshape X to make it 3D for CNN input (num_samples, time_steps=1, embedding_dim)\n",
    "X_cleaned = np.expand_dims(X_cleaned, axis=1)\n",
    "\n",
    "# Train-Test Split (80% training, 20% testing)\n",
    "X_train, X_test, y_train, y_test = train_test_split(X_cleaned, y, test_size=0.2, random_state=42)\n",
    "\n",
    "# Cast X_train and X_test to float32 to avoid data type issues\n",
    "X_train = X_train.astype(np.float32)\n",
    "X_test = X_test.astype(np.float32)\n",
    "\n",
    "# Check the shapes of the data\n",
    "print(f\"Shape of X_train: {X_train.shape}\")  # Should be (num_samples, 1, embedding_dim)\n",
    "print(f\"Shape of y_train: {y_train.shape}\")  # Should be (num_samples, 2)\n"
   ]
  },
  {
   "cell_type": "code",
   "execution_count": 47,
   "id": "b8f98be6-f06d-444e-856e-ce6599213746",
   "metadata": {},
   "outputs": [],
   "source": [
    "# Cast X_train and X_test to float32 to avoid data type issues\n",
    "X_train = X_train.astype(np.float32)\n",
    "X_test = X_test.astype(np.float32)\n"
   ]
  },
  {
   "cell_type": "code",
   "execution_count": 49,
   "id": "b6c6579c-56d6-44ea-939f-02d6c46595df",
   "metadata": {},
   "outputs": [
    {
     "name": "stdout",
     "output_type": "stream",
     "text": [
      "Epoch 1/30\n",
      "\u001b[1m263/263\u001b[0m \u001b[32m━━━━━━━━━━━━━━━━━━━━\u001b[0m\u001b[37m\u001b[0m \u001b[1m4s\u001b[0m 5ms/step - accuracy: 0.7895 - loss: 0.4331 - val_accuracy: 0.9457 - val_loss: 0.1394\n",
      "Epoch 2/30\n",
      "\u001b[1m263/263\u001b[0m \u001b[32m━━━━━━━━━━━━━━━━━━━━\u001b[0m\u001b[37m\u001b[0m \u001b[1m1s\u001b[0m 4ms/step - accuracy: 0.9400 - loss: 0.1718 - val_accuracy: 0.9414 - val_loss: 0.1513\n",
      "Epoch 3/30\n",
      "\u001b[1m263/263\u001b[0m \u001b[32m━━━━━━━━━━━━━━━━━━━━\u001b[0m\u001b[37m\u001b[0m \u001b[1m1s\u001b[0m 4ms/step - accuracy: 0.9459 - loss: 0.1524 - val_accuracy: 0.9543 - val_loss: 0.1167\n",
      "Epoch 4/30\n",
      "\u001b[1m263/263\u001b[0m \u001b[32m━━━━━━━━━━━━━━━━━━━━\u001b[0m\u001b[37m\u001b[0m \u001b[1m1s\u001b[0m 4ms/step - accuracy: 0.9487 - loss: 0.1414 - val_accuracy: 0.9476 - val_loss: 0.1319\n",
      "Epoch 5/30\n",
      "\u001b[1m263/263\u001b[0m \u001b[32m━━━━━━━━━━━━━━━━━━━━\u001b[0m\u001b[37m\u001b[0m \u001b[1m1s\u001b[0m 4ms/step - accuracy: 0.9563 - loss: 0.1230 - val_accuracy: 0.9566 - val_loss: 0.1126\n",
      "Epoch 6/30\n",
      "\u001b[1m263/263\u001b[0m \u001b[32m━━━━━━━━━━━━━━━━━━━━\u001b[0m\u001b[37m\u001b[0m \u001b[1m1s\u001b[0m 4ms/step - accuracy: 0.9534 - loss: 0.1252 - val_accuracy: 0.9571 - val_loss: 0.1067\n",
      "Epoch 7/30\n",
      "\u001b[1m263/263\u001b[0m \u001b[32m━━━━━━━━━━━━━━━━━━━━\u001b[0m\u001b[37m\u001b[0m \u001b[1m1s\u001b[0m 4ms/step - accuracy: 0.9543 - loss: 0.1201 - val_accuracy: 0.9614 - val_loss: 0.1034\n",
      "Epoch 8/30\n",
      "\u001b[1m263/263\u001b[0m \u001b[32m━━━━━━━━━━━━━━━━━━━━\u001b[0m\u001b[37m\u001b[0m \u001b[1m1s\u001b[0m 4ms/step - accuracy: 0.9578 - loss: 0.1120 - val_accuracy: 0.9557 - val_loss: 0.1111\n",
      "Epoch 9/30\n",
      "\u001b[1m263/263\u001b[0m \u001b[32m━━━━━━━━━━━━━━━━━━━━\u001b[0m\u001b[37m\u001b[0m \u001b[1m1s\u001b[0m 4ms/step - accuracy: 0.9611 - loss: 0.0997 - val_accuracy: 0.9633 - val_loss: 0.1063\n",
      "Epoch 10/30\n",
      "\u001b[1m263/263\u001b[0m \u001b[32m━━━━━━━━━━━━━━━━━━━━\u001b[0m\u001b[37m\u001b[0m \u001b[1m1s\u001b[0m 5ms/step - accuracy: 0.9662 - loss: 0.0997 - val_accuracy: 0.9576 - val_loss: 0.1190\n",
      "Epoch 11/30\n",
      "\u001b[1m263/263\u001b[0m \u001b[32m━━━━━━━━━━━━━━━━━━━━\u001b[0m\u001b[37m\u001b[0m \u001b[1m1s\u001b[0m 4ms/step - accuracy: 0.9637 - loss: 0.0991 - val_accuracy: 0.9600 - val_loss: 0.1098\n",
      "Epoch 12/30\n",
      "\u001b[1m263/263\u001b[0m \u001b[32m━━━━━━━━━━━━━━━━━━━━\u001b[0m\u001b[37m\u001b[0m \u001b[1m1s\u001b[0m 4ms/step - accuracy: 0.9667 - loss: 0.0860 - val_accuracy: 0.9600 - val_loss: 0.1303\n",
      "Epoch 13/30\n",
      "\u001b[1m263/263\u001b[0m \u001b[32m━━━━━━━━━━━━━━━━━━━━\u001b[0m\u001b[37m\u001b[0m \u001b[1m1s\u001b[0m 5ms/step - accuracy: 0.9691 - loss: 0.0870 - val_accuracy: 0.9628 - val_loss: 0.1081\n",
      "Epoch 14/30\n",
      "\u001b[1m263/263\u001b[0m \u001b[32m━━━━━━━━━━━━━━━━━━━━\u001b[0m\u001b[37m\u001b[0m \u001b[1m1s\u001b[0m 5ms/step - accuracy: 0.9722 - loss: 0.0786 - val_accuracy: 0.9676 - val_loss: 0.0911\n",
      "Epoch 15/30\n",
      "\u001b[1m263/263\u001b[0m \u001b[32m━━━━━━━━━━━━━━━━━━━━\u001b[0m\u001b[37m\u001b[0m \u001b[1m1s\u001b[0m 5ms/step - accuracy: 0.9743 - loss: 0.0740 - val_accuracy: 0.9690 - val_loss: 0.0860\n",
      "Epoch 16/30\n",
      "\u001b[1m263/263\u001b[0m \u001b[32m━━━━━━━━━━━━━━━━━━━━\u001b[0m\u001b[37m\u001b[0m \u001b[1m2s\u001b[0m 5ms/step - accuracy: 0.9723 - loss: 0.0737 - val_accuracy: 0.9681 - val_loss: 0.0957\n",
      "Epoch 17/30\n",
      "\u001b[1m263/263\u001b[0m \u001b[32m━━━━━━━━━━━━━━━━━━━━\u001b[0m\u001b[37m\u001b[0m \u001b[1m1s\u001b[0m 4ms/step - accuracy: 0.9713 - loss: 0.0776 - val_accuracy: 0.9643 - val_loss: 0.0949\n",
      "Epoch 18/30\n",
      "\u001b[1m263/263\u001b[0m \u001b[32m━━━━━━━━━━━━━━━━━━━━\u001b[0m\u001b[37m\u001b[0m \u001b[1m1s\u001b[0m 4ms/step - accuracy: 0.9722 - loss: 0.0706 - val_accuracy: 0.9681 - val_loss: 0.1011\n",
      "Epoch 19/30\n",
      "\u001b[1m263/263\u001b[0m \u001b[32m━━━━━━━━━━━━━━━━━━━━\u001b[0m\u001b[37m\u001b[0m \u001b[1m1s\u001b[0m 4ms/step - accuracy: 0.9698 - loss: 0.0805 - val_accuracy: 0.9686 - val_loss: 0.0891\n",
      "Epoch 20/30\n",
      "\u001b[1m263/263\u001b[0m \u001b[32m━━━━━━━━━━━━━━━━━━━━\u001b[0m\u001b[37m\u001b[0m \u001b[1m1s\u001b[0m 4ms/step - accuracy: 0.9694 - loss: 0.0762 - val_accuracy: 0.9490 - val_loss: 0.1452\n",
      "Epoch 21/30\n",
      "\u001b[1m263/263\u001b[0m \u001b[32m━━━━━━━━━━━━━━━━━━━━\u001b[0m\u001b[37m\u001b[0m \u001b[1m1s\u001b[0m 4ms/step - accuracy: 0.9716 - loss: 0.0717 - val_accuracy: 0.9624 - val_loss: 0.1073\n",
      "Epoch 22/30\n",
      "\u001b[1m263/263\u001b[0m \u001b[32m━━━━━━━━━━━━━━━━━━━━\u001b[0m\u001b[37m\u001b[0m \u001b[1m1s\u001b[0m 4ms/step - accuracy: 0.9737 - loss: 0.0687 - val_accuracy: 0.9695 - val_loss: 0.0854\n",
      "Epoch 23/30\n",
      "\u001b[1m263/263\u001b[0m \u001b[32m━━━━━━━━━━━━━━━━━━━━\u001b[0m\u001b[37m\u001b[0m \u001b[1m1s\u001b[0m 5ms/step - accuracy: 0.9753 - loss: 0.0618 - val_accuracy: 0.9662 - val_loss: 0.1046\n",
      "Epoch 24/30\n",
      "\u001b[1m263/263\u001b[0m \u001b[32m━━━━━━━━━━━━━━━━━━━━\u001b[0m\u001b[37m\u001b[0m \u001b[1m1s\u001b[0m 5ms/step - accuracy: 0.9746 - loss: 0.0678 - val_accuracy: 0.9581 - val_loss: 0.1265\n",
      "Epoch 25/30\n",
      "\u001b[1m263/263\u001b[0m \u001b[32m━━━━━━━━━━━━━━━━━━━━\u001b[0m\u001b[37m\u001b[0m \u001b[1m1s\u001b[0m 4ms/step - accuracy: 0.9755 - loss: 0.0698 - val_accuracy: 0.9643 - val_loss: 0.1067\n",
      "Epoch 26/30\n",
      "\u001b[1m263/263\u001b[0m \u001b[32m━━━━━━━━━━━━━━━━━━━━\u001b[0m\u001b[37m\u001b[0m \u001b[1m1s\u001b[0m 4ms/step - accuracy: 0.9800 - loss: 0.0532 - val_accuracy: 0.9647 - val_loss: 0.1057\n",
      "Epoch 27/30\n",
      "\u001b[1m263/263\u001b[0m \u001b[32m━━━━━━━━━━━━━━━━━━━━\u001b[0m\u001b[37m\u001b[0m \u001b[1m1s\u001b[0m 4ms/step - accuracy: 0.9793 - loss: 0.0562 - val_accuracy: 0.9624 - val_loss: 0.1229\n",
      "Epoch 28/30\n",
      "\u001b[1m263/263\u001b[0m \u001b[32m━━━━━━━━━━━━━━━━━━━━\u001b[0m\u001b[37m\u001b[0m \u001b[1m1s\u001b[0m 4ms/step - accuracy: 0.9728 - loss: 0.0738 - val_accuracy: 0.9705 - val_loss: 0.0897\n",
      "Epoch 29/30\n",
      "\u001b[1m263/263\u001b[0m \u001b[32m━━━━━━━━━━━━━━━━━━━━\u001b[0m\u001b[37m\u001b[0m \u001b[1m1s\u001b[0m 3ms/step - accuracy: 0.9804 - loss: 0.0482 - val_accuracy: 0.9690 - val_loss: 0.1074\n",
      "Epoch 30/30\n",
      "\u001b[1m263/263\u001b[0m \u001b[32m━━━━━━━━━━━━━━━━━━━━\u001b[0m\u001b[37m\u001b[0m \u001b[1m1s\u001b[0m 4ms/step - accuracy: 0.9777 - loss: 0.0559 - val_accuracy: 0.9662 - val_loss: 0.1229\n",
      "\u001b[1m82/82\u001b[0m \u001b[32m━━━━━━━━━━━━━━━━━━━━\u001b[0m\u001b[37m\u001b[0m \u001b[1m0s\u001b[0m 2ms/step - accuracy: 0.9600 - loss: 0.1538\n",
      "Test Accuracy: 0.9641768336296082\n"
     ]
    }
   ],
   "source": [
    "from tensorflow.keras.models import Sequential\n",
    "from tensorflow.keras.layers import Dense, Conv1D, Flatten, Dropout, Input\n",
    "\n",
    "# Build CNN Model with Input Layer\n",
    "model = Sequential([\n",
    "    Input(shape=X_train.shape[1:]),  # Explicit input layer with shape (1, 7)\n",
    "    Conv1D(filters=64, kernel_size=1, activation='relu'),  # kernel_size=1 for single time step\n",
    "    Dropout(0.5),\n",
    "    Flatten(),\n",
    "    Dense(128, activation='relu'),\n",
    "    Dropout(0.5),\n",
    "    Dense(2, activation='softmax')  # Output layer for binary classification\n",
    "])\n",
    "\n",
    "# Compile the model\n",
    "model.compile(optimizer='adam', loss='categorical_crossentropy', metrics=['accuracy'])\n",
    "\n",
    "# Train the model\n",
    "history = model.fit(X_train, y_train, epochs=30, batch_size=32, validation_split=0.2)\n",
    "\n",
    "# Evaluate the model\n",
    "test_loss, test_accuracy = model.evaluate(X_test, y_test)\n",
    "print(f\"Test Accuracy: {test_accuracy}\")\n",
    "\n",
    "# Retrieve weights after the last epoch\n",
    "# final_weights = model.get_weights()\n",
    "# model.save('cnn_model.h5')\n",
    "\n",
    "# # Print weights of each layer\n",
    "# for i, layer_weights in enumerate(final_weights):\n",
    "#     print(f\"Weights of Layer {i + 1}:\")\n",
    "#     print(layer_weights)\n",
    "#     print(\"-\" * 50)\n"
   ]
  },
  {
   "cell_type": "code",
   "execution_count": 77,
   "id": "81521844-899c-4a12-a3e8-a5452ab5cf6b",
   "metadata": {},
   "outputs": [
    {
     "data": {
      "image/png": "[encoded data removed]",
      "text/plain": [
       "<Figure size 1200x500 with 2 Axes>"
      ]
     },
     "metadata": {},
     "output_type": "display_data"
    }
   ],
   "source": [
    "import matplotlib.pyplot as plt\n",
    "\n",
    "plt.figure(figsize=(12, 5))\n",
    "\n",
    "# Accuracy plot\n",
    "plt.subplot(1, 2, 1)\n",
    "plt.plot(history.history['accuracy'], label='Training Accuracy')\n",
    "plt.plot(history.history['val_accuracy'], label='Validation Accuracy')\n",
    "plt.title('Model Accuracy')\n",
    "plt.xlabel('Epochs')\n",
    "plt.ylabel('Accuracy')\n",
    "plt.legend()\n",
    "\n",
    "# Loss plot\n",
    "plt.subplot(1, 2, 2)\n",
    "plt.plot(history.history['loss'], label='Training Loss')\n",
    "plt.plot(history.history['val_loss'], label='Validation Loss')\n",
    "plt.title('Model Loss')\n",
    "plt.xlabel('Epochs')\n",
    "plt.ylabel('Loss')\n",
    "plt.legend()\n",
    "\n",
    "plt.tight_layout()\n",
    "plt.show()"
   ]
  },
  {
   "cell_type": "code",
   "execution_count": null,
   "id": "bdadff99-568b-44bc-9d1c-a81325f7d293",
   "metadata": {},
   "outputs": [],
   "source": []
  }
 ],
 "metadata": {
  "kernelspec": {
   "display_name": "Python 3 (ipykernel)",
   "language": "python",
   "name": "python3"
  },
  "language_info": {
   "codemirror_mode": {
    "name": "ipython",
    "version": 3
   },
   "file_extension": ".py",
   "mimetype": "text/x-python",
   "name": "python",
   "nbconvert_exporter": "python",
   "pygments_lexer": "ipython3",
   "version": "3.12.7"
  }
 },
 "nbformat": 4,
 "nbformat_minor": 5
}
