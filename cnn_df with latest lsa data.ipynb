{
 "cells": [
  {
   "cell_type": "code",
   "execution_count": 1,
   "id": "5bce8e1b-b20b-4df5-93f9-764fdf40cefd",
   "metadata": {},
   "outputs": [],
   "source": [
    "import pandas as pd\n",
    "cnn_df=pd.read_csv('after_lsa1_data_to_compare.csv')"
   ]
  },
  {
   "cell_type": "code",
   "execution_count": 3,
   "id": "32bb6561-ec79-4458-9ad5-363c026b7bfb",
   "metadata": {},
   "outputs": [
    {
     "data": {
      "text/html": [
       "<div>\n",
       "<style scoped>\n",
       "    .dataframe tbody tr th:only-of-type {\n",
       "        vertical-align: middle;\n",
       "    }\n",
       "\n",
       "    .dataframe tbody tr th {\n",
       "        vertical-align: top;\n",
       "    }\n",
       "\n",
       "    .dataframe thead th {\n",
       "        text-align: right;\n",
       "    }\n",
       "</style>\n",
       "<table border=\"1\" class=\"dataframe\">\n",
       "  <thead>\n",
       "    <tr style=\"text-align: right;\">\n",
       "      <th></th>\n",
       "      <th>Email Text</th>\n",
       "      <th>Email Type</th>\n",
       "      <th>LSA Embeddings</th>\n",
       "    </tr>\n",
       "  </thead>\n",
       "  <tbody>\n",
       "    <tr>\n",
       "      <th>0</th>\n",
       "      <td>breathtaking image for your company now workin...</td>\n",
       "      <td>Phishing Email</td>\n",
       "      <td>[ 3.03347639e-01  1.79753165e-01 -2.04226572e-...</td>\n",
       "    </tr>\n",
       "    <tr>\n",
       "      <th>1</th>\n",
       "      <td>how to substantially increase saleseasily acce...</td>\n",
       "      <td>Phishing Email</td>\n",
       "      <td>[ 3.75208855e-01  1.03346975e-01 -2.18870916e-...</td>\n",
       "    </tr>\n",
       "    <tr>\n",
       "      <th>2</th>\n",
       "      <td>epac pt e carnoali genie com e carolan genie c...</td>\n",
       "      <td>Phishing Email</td>\n",
       "      <td>[ 3.72480295e-01  1.58124799e-01 -1.95396129e-...</td>\n",
       "    </tr>\n",
       "    <tr>\n",
       "      <th>3</th>\n",
       "      <td>about aptconf there are these lines rpm leave ...</td>\n",
       "      <td>Safe Email</td>\n",
       "      <td>[ 1.06917656e-01  5.63415799e-04 -2.28154267e-...</td>\n",
       "    </tr>\n",
       "    <tr>\n",
       "      <th>4</th>\n",
       "      <td>cialis soft tabs pre scriptions new clalls sof...</td>\n",
       "      <td>Phishing Email</td>\n",
       "      <td>[ 0.14484777  0.03201964 -0.01029263 -0.033225...</td>\n",
       "    </tr>\n",
       "  </tbody>\n",
       "</table>\n",
       "</div>"
      ],
      "text/plain": [
       "                                          Email Text      Email Type  \\\n",
       "0  breathtaking image for your company now workin...  Phishing Email   \n",
       "1  how to substantially increase saleseasily acce...  Phishing Email   \n",
       "2  epac pt e carnoali genie com e carolan genie c...  Phishing Email   \n",
       "3  about aptconf there are these lines rpm leave ...      Safe Email   \n",
       "4  cialis soft tabs pre scriptions new clalls sof...  Phishing Email   \n",
       "\n",
       "                                      LSA Embeddings  \n",
       "0  [ 3.03347639e-01  1.79753165e-01 -2.04226572e-...  \n",
       "1  [ 3.75208855e-01  1.03346975e-01 -2.18870916e-...  \n",
       "2  [ 3.72480295e-01  1.58124799e-01 -1.95396129e-...  \n",
       "3  [ 1.06917656e-01  5.63415799e-04 -2.28154267e-...  \n",
       "4  [ 0.14484777  0.03201964 -0.01029263 -0.033225...  "
      ]
     },
     "execution_count": 3,
     "metadata": {},
     "output_type": "execute_result"
    }
   ],
   "source": [
    "cnn_df.head()"
   ]
  },
  {
   "cell_type": "code",
   "execution_count": 5,
   "id": "fae06c66-0d5b-4208-956a-a42ec550ac2a",
   "metadata": {},
   "outputs": [
    {
     "data": {
      "text/html": [
       "<div>\n",
       "<style scoped>\n",
       "    .dataframe tbody tr th:only-of-type {\n",
       "        vertical-align: middle;\n",
       "    }\n",
       "\n",
       "    .dataframe tbody tr th {\n",
       "        vertical-align: top;\n",
       "    }\n",
       "\n",
       "    .dataframe thead th {\n",
       "        text-align: right;\n",
       "    }\n",
       "</style>\n",
       "<table border=\"1\" class=\"dataframe\">\n",
       "  <thead>\n",
       "    <tr style=\"text-align: right;\">\n",
       "      <th></th>\n",
       "      <th>Email Text</th>\n",
       "      <th>Email Type</th>\n",
       "      <th>LSA Embeddings</th>\n",
       "    </tr>\n",
       "  </thead>\n",
       "  <tbody>\n",
       "    <tr>\n",
       "      <th>count</th>\n",
       "      <td>13114</td>\n",
       "      <td>13116</td>\n",
       "      <td>13116</td>\n",
       "    </tr>\n",
       "    <tr>\n",
       "      <th>unique</th>\n",
       "      <td>13020</td>\n",
       "      <td>2</td>\n",
       "      <td>12706</td>\n",
       "    </tr>\n",
       "    <tr>\n",
       "      <th>top</th>\n",
       "      <td>alink texdecoration noneaactive textdecoration...</td>\n",
       "      <td>Phishing Email</td>\n",
       "      <td>[ 2.19961732e-02 -3.45981645e-02  6.34245211e-...</td>\n",
       "    </tr>\n",
       "    <tr>\n",
       "      <th>freq</th>\n",
       "      <td>6</td>\n",
       "      <td>6558</td>\n",
       "      <td>30</td>\n",
       "    </tr>\n",
       "  </tbody>\n",
       "</table>\n",
       "</div>"
      ],
      "text/plain": [
       "                                               Email Text      Email Type  \\\n",
       "count                                               13114           13116   \n",
       "unique                                              13020               2   \n",
       "top     alink texdecoration noneaactive textdecoration...  Phishing Email   \n",
       "freq                                                    6            6558   \n",
       "\n",
       "                                           LSA Embeddings  \n",
       "count                                               13116  \n",
       "unique                                              12706  \n",
       "top     [ 2.19961732e-02 -3.45981645e-02  6.34245211e-...  \n",
       "freq                                                   30  "
      ]
     },
     "execution_count": 5,
     "metadata": {},
     "output_type": "execute_result"
    }
   ],
   "source": [
    "cnn_df.describe()"
   ]
  },
  {
   "cell_type": "code",
   "execution_count": 7,
   "id": "1750478d-ae6d-42ca-a905-590664d85b1c",
   "metadata": {},
   "outputs": [
    {
     "name": "stdout",
     "output_type": "stream",
     "text": [
      "0    [ 3.03347639e-01  1.79753165e-01 -2.04226572e-...\n",
      "1    [ 3.75208855e-01  1.03346975e-01 -2.18870916e-...\n",
      "2    [ 3.72480295e-01  1.58124799e-01 -1.95396129e-...\n",
      "3    [ 1.06917656e-01  5.63415799e-04 -2.28154267e-...\n",
      "4    [ 0.14484777  0.03201964 -0.01029263 -0.033225...\n",
      "Name: LSA Embeddings, dtype: object\n",
      "<class 'str'>\n"
     ]
    }
   ],
   "source": [
    "# Check the first few rows of the BERT Embeddings column\n",
    "print(cnn_df['LSA Embeddings'].head())\n",
    "\n",
    "# Check the type of the first entry in the BERT Embeddings column\n",
    "print(type(cnn_df['LSA Embeddings'][0]))\n"
   ]
  },
  {
   "cell_type": "code",
   "execution_count": 9,
   "id": "3654439d-f5d9-4981-ba99-9d216ed5123c",
   "metadata": {},
   "outputs": [],
   "source": [
    "def fix_embedding_format(embedding_str):\n",
    "    # Replace spaces with commas, ensuring proper formatting for lists\n",
    "    return '[' + ','.join(embedding_str.strip('[]').split()) + ']'\n",
    "\n",
    "# Apply the formatting fix\n",
    "cnn_df['LSA Embeddings'] = cnn_df['LSA Embeddings'].apply(fix_embedding_format)"
   ]
  },
  {
   "cell_type": "code",
   "execution_count": 11,
   "id": "3d822071-76f9-4232-957b-4a8cb550ab86",
   "metadata": {},
   "outputs": [],
   "source": [
    "import numpy as np\n",
    "import ast\n",
    "\n",
    "# Convert string embeddings to actual NumPy arrays\n",
    "cnn_df['LSA Embeddings'] = cnn_df['LSA Embeddings'].apply(lambda x: np.array(ast.literal_eval(x)))\n"
   ]
  },
  {
   "cell_type": "code",
   "execution_count": 12,
   "id": "c91302ed-5253-4b69-88d9-efda5c51aec0",
   "metadata": {},
   "outputs": [
    {
     "name": "stdout",
     "output_type": "stream",
     "text": [
      "<class 'numpy.ndarray'>\n",
      "(300,)\n"
     ]
    }
   ],
   "source": [
    "print(type(cnn_df['LSA Embeddings'][0]))  # Should output <class 'numpy.ndarray'>\n",
    "print(cnn_df['LSA Embeddings'][0].shape)  # Should show the shape of the embedding\n"
   ]
  },
  {
   "cell_type": "code",
   "execution_count": 15,
   "id": "928583b5-e00a-482c-b98d-5e80c9116679",
   "metadata": {},
   "outputs": [
    {
     "name": "stdout",
     "output_type": "stream",
     "text": [
      "Shape of X_train: (10492, 1, 300)\n",
      "Shape of y_train: (10492, 2)\n"
     ]
    }
   ],
   "source": [
    "# !pip install sklearn\n",
    "import numpy as np\n",
    "from sklearn.preprocessing import LabelEncoder\n",
    "import tensorflow as tf\n",
    "from sklearn.model_selection import train_test_split\n",
    "\n",
    "# # Initialize a list to store the cleaned embeddings\n",
    "# X_cleaned = []\n",
    "\n",
    "# for emb in cnn_df['LSA Embeddings']:\n",
    "#     try:\n",
    "#         # Ensure emb is a valid numpy array\n",
    "#         if isinstance(emb, np.ndarray):\n",
    "#             # Remove 'Ellipsis' from the embedding\n",
    "#             emb = emb[emb != Ellipsis]\n",
    "            \n",
    "#             # Filter out zero values\n",
    "#             non_zero_emb = emb[emb != 0]\n",
    "            \n",
    "#             # Only keep embeddings that have at least one non-zero value\n",
    "#             if non_zero_emb.size > 0:\n",
    "#                 X_cleaned.append(non_zero_emb)\n",
    "#             else:\n",
    "#                 print(f\"Skipping embedding with no non-zero values after cleaning: {emb}\")\n",
    "#         else:\n",
    "#             print(f\"Skipping invalid entry (not numpy array): {emb}\")\n",
    "#             continue\n",
    "#     except Exception as e:\n",
    "#         print(f\"Skipping invalid entry due to error: {e}\")\n",
    "#         continue\n",
    "\n",
    "# # Convert the cleaned list into a numpy array\n",
    "# X_cleaned = np.array(X_cleaned)\n",
    "\n",
    "X_cleaned = np.array(cnn_df['LSA Embeddings'].tolist())  # Directly convert to NumPy array\n",
    "\n",
    "\n",
    "# Ensure that we have enough valid data\n",
    "if X_cleaned.size == 0:\n",
    "    print(f\"Total number of valid embeddings: {len(X_cleaned)}\")\n",
    "    raise ValueError(\"No valid embeddings found after cleaning. Please check the data.\")\n",
    "\n",
    "# Proceed with the remaining steps as before (e.g., train-test split)\n",
    "y = cnn_df['Email Type']\n",
    "label_encoder = LabelEncoder()\n",
    "y = label_encoder.fit_transform(y)\n",
    "y = tf.keras.utils.to_categorical(y, num_classes=2)\n",
    "\n",
    "# Reshape X to make it 3D for CNN input (num_samples, time_steps=1, embedding_dim)\n",
    "X_cleaned = np.expand_dims(X_cleaned, axis=1)\n",
    "\n",
    "# Train-Test Split (80% training, 20% testing)\n",
    "X_train, X_test, y_train, y_test = train_test_split(X_cleaned, y, test_size=0.2, random_state=42)\n",
    "\n",
    "# Cast X_train and X_test to float32 to avoid data type issues\n",
    "X_train = X_train.astype(np.float32)\n",
    "X_test = X_test.astype(np.float32)\n",
    "\n",
    "# Check the shapes of the data\n",
    "print(f\"Shape of X_train: {X_train.shape}\")  # Should be (num_samples, 1, embedding_dim)\n",
    "print(f\"Shape of y_train: {y_train.shape}\")  # Should be (num_samples, 2)\n"
   ]
  },
  {
   "cell_type": "code",
   "execution_count": 17,
   "id": "c405356c-5c05-49e1-b3c8-d7b65df6dc6a",
   "metadata": {},
   "outputs": [],
   "source": [
    "# Cast X_train and X_test to float32 to avoid data type issues\n",
    "X_train = X_train.astype(np.float32)\n",
    "X_test = X_test.astype(np.float32)\n"
   ]
  },
  {
   "cell_type": "code",
   "execution_count": 19,
   "id": "30d052ff-c61a-4ca8-855e-6169aa0e48cd",
   "metadata": {},
   "outputs": [
    {
     "name": "stdout",
     "output_type": "stream",
     "text": [
      "Epoch 1/30\n",
      "\u001b[1m263/263\u001b[0m \u001b[32m━━━━━━━━━━━━━━━━━━━━\u001b[0m\u001b[37m\u001b[0m \u001b[1m8s\u001b[0m 12ms/step - accuracy: 0.7377 - loss: 0.5486 - val_accuracy: 0.9700 - val_loss: 0.0884\n",
      "Epoch 2/30\n",
      "\u001b[1m263/263\u001b[0m \u001b[32m━━━━━━━━━━━━━━━━━━━━\u001b[0m\u001b[37m\u001b[0m \u001b[1m1s\u001b[0m 5ms/step - accuracy: 0.9598 - loss: 0.1076 - val_accuracy: 0.9752 - val_loss: 0.0709\n",
      "Epoch 3/30\n",
      "\u001b[1m263/263\u001b[0m \u001b[32m━━━━━━━━━━━━━━━━━━━━\u001b[0m\u001b[37m\u001b[0m \u001b[1m1s\u001b[0m 4ms/step - accuracy: 0.9742 - loss: 0.0777 - val_accuracy: 0.9795 - val_loss: 0.0634\n",
      "Epoch 4/30\n",
      "\u001b[1m263/263\u001b[0m \u001b[32m━━━━━━━━━━━━━━━━━━━━\u001b[0m\u001b[37m\u001b[0m \u001b[1m1s\u001b[0m 3ms/step - accuracy: 0.9757 - loss: 0.0628 - val_accuracy: 0.9771 - val_loss: 0.0676\n",
      "Epoch 5/30\n",
      "\u001b[1m263/263\u001b[0m \u001b[32m━━━━━━━━━━━━━━━━━━━━\u001b[0m\u001b[37m\u001b[0m \u001b[1m1s\u001b[0m 4ms/step - accuracy: 0.9804 - loss: 0.0492 - val_accuracy: 0.9800 - val_loss: 0.0625\n",
      "Epoch 6/30\n",
      "\u001b[1m263/263\u001b[0m \u001b[32m━━━━━━━━━━━━━━━━━━━━\u001b[0m\u001b[37m\u001b[0m \u001b[1m1s\u001b[0m 4ms/step - accuracy: 0.9847 - loss: 0.0452 - val_accuracy: 0.9757 - val_loss: 0.0674\n",
      "Epoch 7/30\n",
      "\u001b[1m263/263\u001b[0m \u001b[32m━━━━━━━━━━━━━━━━━━━━\u001b[0m\u001b[37m\u001b[0m \u001b[1m1s\u001b[0m 4ms/step - accuracy: 0.9863 - loss: 0.0372 - val_accuracy: 0.9767 - val_loss: 0.0683\n",
      "Epoch 8/30\n",
      "\u001b[1m263/263\u001b[0m \u001b[32m━━━━━━━━━━━━━━━━━━━━\u001b[0m\u001b[37m\u001b[0m \u001b[1m1s\u001b[0m 4ms/step - accuracy: 0.9899 - loss: 0.0319 - val_accuracy: 0.9771 - val_loss: 0.0654\n",
      "Epoch 9/30\n",
      "\u001b[1m263/263\u001b[0m \u001b[32m━━━━━━━━━━━━━━━━━━━━\u001b[0m\u001b[37m\u001b[0m \u001b[1m1s\u001b[0m 4ms/step - accuracy: 0.9875 - loss: 0.0336 - val_accuracy: 0.9771 - val_loss: 0.0685\n",
      "Epoch 10/30\n",
      "\u001b[1m263/263\u001b[0m \u001b[32m━━━━━━━━━━━━━━━━━━━━\u001b[0m\u001b[37m\u001b[0m \u001b[1m1s\u001b[0m 5ms/step - accuracy: 0.9903 - loss: 0.0268 - val_accuracy: 0.9724 - val_loss: 0.0763\n",
      "Epoch 11/30\n",
      "\u001b[1m263/263\u001b[0m \u001b[32m━━━━━━━━━━━━━━━━━━━━\u001b[0m\u001b[37m\u001b[0m \u001b[1m1s\u001b[0m 4ms/step - accuracy: 0.9906 - loss: 0.0250 - val_accuracy: 0.9762 - val_loss: 0.0710\n",
      "Epoch 12/30\n",
      "\u001b[1m263/263\u001b[0m \u001b[32m━━━━━━━━━━━━━━━━━━━━\u001b[0m\u001b[37m\u001b[0m \u001b[1m1s\u001b[0m 4ms/step - accuracy: 0.9913 - loss: 0.0225 - val_accuracy: 0.9752 - val_loss: 0.0751\n",
      "Epoch 13/30\n",
      "\u001b[1m263/263\u001b[0m \u001b[32m━━━━━━━━━━━━━━━━━━━━\u001b[0m\u001b[37m\u001b[0m \u001b[1m1s\u001b[0m 5ms/step - accuracy: 0.9933 - loss: 0.0192 - val_accuracy: 0.9752 - val_loss: 0.0795\n",
      "Epoch 14/30\n",
      "\u001b[1m263/263\u001b[0m \u001b[32m━━━━━━━━━━━━━━━━━━━━\u001b[0m\u001b[37m\u001b[0m \u001b[1m1s\u001b[0m 5ms/step - accuracy: 0.9924 - loss: 0.0199 - val_accuracy: 0.9762 - val_loss: 0.0807\n",
      "Epoch 15/30\n",
      "\u001b[1m263/263\u001b[0m \u001b[32m━━━━━━━━━━━━━━━━━━━━\u001b[0m\u001b[37m\u001b[0m \u001b[1m2s\u001b[0m 6ms/step - accuracy: 0.9945 - loss: 0.0182 - val_accuracy: 0.9738 - val_loss: 0.0843\n",
      "Epoch 16/30\n",
      "\u001b[1m263/263\u001b[0m \u001b[32m━━━━━━━━━━━━━━━━━━━━\u001b[0m\u001b[37m\u001b[0m \u001b[1m3s\u001b[0m 7ms/step - accuracy: 0.9952 - loss: 0.0160 - val_accuracy: 0.9762 - val_loss: 0.0918\n",
      "Epoch 17/30\n",
      "\u001b[1m263/263\u001b[0m \u001b[32m━━━━━━━━━━━━━━━━━━━━\u001b[0m\u001b[37m\u001b[0m \u001b[1m2s\u001b[0m 8ms/step - accuracy: 0.9957 - loss: 0.0114 - val_accuracy: 0.9714 - val_loss: 0.0916\n",
      "Epoch 18/30\n",
      "\u001b[1m263/263\u001b[0m \u001b[32m━━━━━━━━━━━━━━━━━━━━\u001b[0m\u001b[37m\u001b[0m \u001b[1m2s\u001b[0m 7ms/step - accuracy: 0.9953 - loss: 0.0132 - val_accuracy: 0.9752 - val_loss: 0.0937\n",
      "Epoch 19/30\n",
      "\u001b[1m263/263\u001b[0m \u001b[32m━━━━━━━━━━━━━━━━━━━━\u001b[0m\u001b[37m\u001b[0m \u001b[1m2s\u001b[0m 8ms/step - accuracy: 0.9971 - loss: 0.0108 - val_accuracy: 0.9786 - val_loss: 0.0871\n",
      "Epoch 20/30\n",
      "\u001b[1m263/263\u001b[0m \u001b[32m━━━━━━━━━━━━━━━━━━━━\u001b[0m\u001b[37m\u001b[0m \u001b[1m2s\u001b[0m 6ms/step - accuracy: 0.9950 - loss: 0.0126 - val_accuracy: 0.9757 - val_loss: 0.0959\n",
      "Epoch 21/30\n",
      "\u001b[1m263/263\u001b[0m \u001b[32m━━━━━━━━━━━━━━━━━━━━\u001b[0m\u001b[37m\u001b[0m \u001b[1m1s\u001b[0m 5ms/step - accuracy: 0.9943 - loss: 0.0133 - val_accuracy: 0.9757 - val_loss: 0.0970\n",
      "Epoch 22/30\n",
      "\u001b[1m263/263\u001b[0m \u001b[32m━━━━━━━━━━━━━━━━━━━━\u001b[0m\u001b[37m\u001b[0m \u001b[1m2s\u001b[0m 6ms/step - accuracy: 0.9959 - loss: 0.0105 - val_accuracy: 0.9767 - val_loss: 0.1013\n",
      "Epoch 23/30\n",
      "\u001b[1m263/263\u001b[0m \u001b[32m━━━━━━━━━━━━━━━━━━━━\u001b[0m\u001b[37m\u001b[0m \u001b[1m1s\u001b[0m 4ms/step - accuracy: 0.9954 - loss: 0.0127 - val_accuracy: 0.9781 - val_loss: 0.0971\n",
      "Epoch 24/30\n",
      "\u001b[1m263/263\u001b[0m \u001b[32m━━━━━━━━━━━━━━━━━━━━\u001b[0m\u001b[37m\u001b[0m \u001b[1m1s\u001b[0m 5ms/step - accuracy: 0.9945 - loss: 0.0165 - val_accuracy: 0.9762 - val_loss: 0.1031\n",
      "Epoch 25/30\n",
      "\u001b[1m263/263\u001b[0m \u001b[32m━━━━━━━━━━━━━━━━━━━━\u001b[0m\u001b[37m\u001b[0m \u001b[1m1s\u001b[0m 5ms/step - accuracy: 0.9973 - loss: 0.0112 - val_accuracy: 0.9786 - val_loss: 0.1007\n",
      "Epoch 26/30\n",
      "\u001b[1m263/263\u001b[0m \u001b[32m━━━━━━━━━━━━━━━━━━━━\u001b[0m\u001b[37m\u001b[0m \u001b[1m1s\u001b[0m 5ms/step - accuracy: 0.9972 - loss: 0.0093 - val_accuracy: 0.9743 - val_loss: 0.1135\n",
      "Epoch 27/30\n",
      "\u001b[1m263/263\u001b[0m \u001b[32m━━━━━━━━━━━━━━━━━━━━\u001b[0m\u001b[37m\u001b[0m \u001b[1m1s\u001b[0m 4ms/step - accuracy: 0.9953 - loss: 0.0122 - val_accuracy: 0.9747 - val_loss: 0.1096\n",
      "Epoch 28/30\n",
      "\u001b[1m263/263\u001b[0m \u001b[32m━━━━━━━━━━━━━━━━━━━━\u001b[0m\u001b[37m\u001b[0m \u001b[1m2s\u001b[0m 7ms/step - accuracy: 0.9972 - loss: 0.0084 - val_accuracy: 0.9757 - val_loss: 0.1093\n",
      "Epoch 29/30\n",
      "\u001b[1m263/263\u001b[0m \u001b[32m━━━━━━━━━━━━━━━━━━━━\u001b[0m\u001b[37m\u001b[0m \u001b[1m2s\u001b[0m 6ms/step - accuracy: 0.9973 - loss: 0.0088 - val_accuracy: 0.9757 - val_loss: 0.1170\n",
      "Epoch 30/30\n",
      "\u001b[1m263/263\u001b[0m \u001b[32m━━━━━━━━━━━━━━━━━━━━\u001b[0m\u001b[37m\u001b[0m \u001b[1m1s\u001b[0m 5ms/step - accuracy: 0.9976 - loss: 0.0116 - val_accuracy: 0.9733 - val_loss: 0.1085\n",
      "\u001b[1m82/82\u001b[0m \u001b[32m━━━━━━━━━━━━━━━━━━━━\u001b[0m\u001b[37m\u001b[0m \u001b[1m0s\u001b[0m 4ms/step - accuracy: 0.9776 - loss: 0.1274\n",
      "Test Accuracy: 0.9740853905677795\n"
     ]
    }
   ],
   "source": [
    "\n"
   ]
  },
  {
   "cell_type": "code",
   "execution_count": 21,
   "id": "5c5f8d20-cf74-40a8-b47b-bb7810f33c38",
   "metadata": {},
   "outputs": [
    {
     "data": {
      "image/png": "[encoded data removed]",
      "text/plain": [
       "<Figure size 1200x500 with 2 Axes>"
      ]
     },
     "metadata": {},
     "output_type": "display_data"
    }
   ],
   "source": [
    "import matplotlib.pyplot as plt\n",
    "\n",
    "plt.figure(figsize=(12, 5))\n",
    "\n",
    "# Accuracy plot\n",
    "plt.subplot(1, 2, 1)\n",
    "plt.plot(history.history['accuracy'], label='Training Accuracy')\n",
    "plt.plot(history.history['val_accuracy'], label='Validation Accuracy')\n",
    "plt.title('Model Accuracy')\n",
    "plt.xlabel('Epochs')\n",
    "plt.ylabel('Accuracy')\n",
    "plt.legend()\n",
    "\n",
    "# Loss plot\n",
    "plt.subplot(1, 2, 2)\n",
    "plt.plot(history.history['loss'], label='Training Loss')\n",
    "plt.plot(history.history['val_loss'], label='Validation Loss')\n",
    "plt.title('Model Loss')\n",
    "plt.xlabel('Epochs')\n",
    "plt.ylabel('Loss')\n",
    "plt.legend()\n",
    "\n",
    "plt.tight_layout()\n",
    "plt.show()"
   ]
  },
  {
   "cell_type": "code",
   "execution_count": null,
   "id": "dfdcf420-d143-4d65-8e5c-09cbc623039f",
   "metadata": {},
   "outputs": [],
   "source": []
  }
 ],
 "metadata": {
  "kernelspec": {
   "display_name": "Python 3 (ipykernel)",
   "language": "python",
   "name": "python3"
  },
  "language_info": {
   "codemirror_mode": {
    "name": "ipython",
    "version": 3
   },
   "file_extension": ".py",
   "mimetype": "text/x-python",
   "name": "python",
   "nbconvert_exporter": "python",
   "pygments_lexer": "ipython3",
   "version": "3.12.7"
  }
 },
 "nbformat": 4,
 "nbformat_minor": 5
}
